{
 "cells": [
  {
   "cell_type": "code",
   "execution_count": 1,
   "id": "9cfc23de",
   "metadata": {
    "_cell_guid": "b1076dfc-b9ad-4769-8c92-a6c4dae69d19",
    "_uuid": "8f2839f25d086af736a60e9eeb907d3b93b6e0e5",
    "execution": {
     "iopub.execute_input": "2023-11-07T20:20:13.528146Z",
     "iopub.status.busy": "2023-11-07T20:20:13.527650Z",
     "iopub.status.idle": "2023-11-07T20:20:15.322520Z",
     "shell.execute_reply": "2023-11-07T20:20:15.321111Z"
    },
    "papermill": {
     "duration": 1.804329,
     "end_time": "2023-11-07T20:20:15.325515",
     "exception": false,
     "start_time": "2023-11-07T20:20:13.521186",
     "status": "completed"
    },
    "tags": []
   },
   "outputs": [],
   "source": [
    "import pandas as pd\n",
    "import matplotlib.pyplot as plt\n",
    "\n",
    "from sklearn.linear_model import LinearRegression\n",
    "from sklearn.model_selection import train_test_split"
   ]
  },
  {
   "cell_type": "code",
   "execution_count": 2,
   "id": "d218670e",
   "metadata": {
    "execution": {
     "iopub.execute_input": "2023-11-07T20:20:15.338680Z",
     "iopub.status.busy": "2023-11-07T20:20:15.337543Z",
     "iopub.status.idle": "2023-11-07T20:20:15.376678Z",
     "shell.execute_reply": "2023-11-07T20:20:15.375538Z"
    },
    "papermill": {
     "duration": 0.047655,
     "end_time": "2023-11-07T20:20:15.379406",
     "exception": false,
     "start_time": "2023-11-07T20:20:15.331751",
     "status": "completed"
    },
    "tags": []
   },
   "outputs": [
    {
     "data": {
      "text/html": [
       "<div>\n",
       "<style scoped>\n",
       "    .dataframe tbody tr th:only-of-type {\n",
       "        vertical-align: middle;\n",
       "    }\n",
       "\n",
       "    .dataframe tbody tr th {\n",
       "        vertical-align: top;\n",
       "    }\n",
       "\n",
       "    .dataframe thead th {\n",
       "        text-align: right;\n",
       "    }\n",
       "</style>\n",
       "<table border=\"1\" class=\"dataframe\">\n",
       "  <thead>\n",
       "    <tr style=\"text-align: right;\">\n",
       "      <th></th>\n",
       "      <th>PetalLengthCm</th>\n",
       "      <th>PetalWidthCm</th>\n",
       "      <th>Species</th>\n",
       "    </tr>\n",
       "  </thead>\n",
       "  <tbody>\n",
       "    <tr>\n",
       "      <th>0</th>\n",
       "      <td>1.4</td>\n",
       "      <td>0.2</td>\n",
       "      <td>Iris-setosa</td>\n",
       "    </tr>\n",
       "    <tr>\n",
       "      <th>1</th>\n",
       "      <td>1.4</td>\n",
       "      <td>0.2</td>\n",
       "      <td>Iris-setosa</td>\n",
       "    </tr>\n",
       "    <tr>\n",
       "      <th>2</th>\n",
       "      <td>1.3</td>\n",
       "      <td>0.2</td>\n",
       "      <td>Iris-setosa</td>\n",
       "    </tr>\n",
       "    <tr>\n",
       "      <th>3</th>\n",
       "      <td>1.5</td>\n",
       "      <td>0.2</td>\n",
       "      <td>Iris-setosa</td>\n",
       "    </tr>\n",
       "    <tr>\n",
       "      <th>4</th>\n",
       "      <td>1.4</td>\n",
       "      <td>0.2</td>\n",
       "      <td>Iris-setosa</td>\n",
       "    </tr>\n",
       "    <tr>\n",
       "      <th>5</th>\n",
       "      <td>1.7</td>\n",
       "      <td>0.4</td>\n",
       "      <td>Iris-setosa</td>\n",
       "    </tr>\n",
       "    <tr>\n",
       "      <th>6</th>\n",
       "      <td>1.4</td>\n",
       "      <td>0.3</td>\n",
       "      <td>Iris-setosa</td>\n",
       "    </tr>\n",
       "    <tr>\n",
       "      <th>7</th>\n",
       "      <td>1.5</td>\n",
       "      <td>0.2</td>\n",
       "      <td>Iris-setosa</td>\n",
       "    </tr>\n",
       "    <tr>\n",
       "      <th>8</th>\n",
       "      <td>1.4</td>\n",
       "      <td>0.2</td>\n",
       "      <td>Iris-setosa</td>\n",
       "    </tr>\n",
       "    <tr>\n",
       "      <th>9</th>\n",
       "      <td>1.5</td>\n",
       "      <td>0.1</td>\n",
       "      <td>Iris-setosa</td>\n",
       "    </tr>\n",
       "  </tbody>\n",
       "</table>\n",
       "</div>"
      ],
      "text/plain": [
       "   PetalLengthCm  PetalWidthCm      Species\n",
       "0            1.4           0.2  Iris-setosa\n",
       "1            1.4           0.2  Iris-setosa\n",
       "2            1.3           0.2  Iris-setosa\n",
       "3            1.5           0.2  Iris-setosa\n",
       "4            1.4           0.2  Iris-setosa\n",
       "5            1.7           0.4  Iris-setosa\n",
       "6            1.4           0.3  Iris-setosa\n",
       "7            1.5           0.2  Iris-setosa\n",
       "8            1.4           0.2  Iris-setosa\n",
       "9            1.5           0.1  Iris-setosa"
      ]
     },
     "execution_count": 2,
     "metadata": {},
     "output_type": "execute_result"
    }
   ],
   "source": [
    "dataframe = pd.read_csv(\"/kaggle/input/iris-data/iris_data (1).csv\")\n",
    "dataframe.head(n=10)"
   ]
  },
  {
   "cell_type": "code",
   "execution_count": 3,
   "id": "9435d3e4",
   "metadata": {
    "execution": {
     "iopub.execute_input": "2023-11-07T20:20:15.389664Z",
     "iopub.status.busy": "2023-11-07T20:20:15.389267Z",
     "iopub.status.idle": "2023-11-07T20:20:15.402385Z",
     "shell.execute_reply": "2023-11-07T20:20:15.401326Z"
    },
    "papermill": {
     "duration": 0.021226,
     "end_time": "2023-11-07T20:20:15.405023",
     "exception": false,
     "start_time": "2023-11-07T20:20:15.383797",
     "status": "completed"
    },
    "tags": []
   },
   "outputs": [
    {
     "data": {
      "text/html": [
       "<div>\n",
       "<style scoped>\n",
       "    .dataframe tbody tr th:only-of-type {\n",
       "        vertical-align: middle;\n",
       "    }\n",
       "\n",
       "    .dataframe tbody tr th {\n",
       "        vertical-align: top;\n",
       "    }\n",
       "\n",
       "    .dataframe thead th {\n",
       "        text-align: right;\n",
       "    }\n",
       "</style>\n",
       "<table border=\"1\" class=\"dataframe\">\n",
       "  <thead>\n",
       "    <tr style=\"text-align: right;\">\n",
       "      <th></th>\n",
       "      <th>PetalLengthCm</th>\n",
       "      <th>PetalWidthCm</th>\n",
       "      <th>Species</th>\n",
       "    </tr>\n",
       "  </thead>\n",
       "  <tbody>\n",
       "    <tr>\n",
       "      <th>0</th>\n",
       "      <td>1.4</td>\n",
       "      <td>0.2</td>\n",
       "      <td>1</td>\n",
       "    </tr>\n",
       "    <tr>\n",
       "      <th>1</th>\n",
       "      <td>1.4</td>\n",
       "      <td>0.2</td>\n",
       "      <td>1</td>\n",
       "    </tr>\n",
       "    <tr>\n",
       "      <th>2</th>\n",
       "      <td>1.3</td>\n",
       "      <td>0.2</td>\n",
       "      <td>1</td>\n",
       "    </tr>\n",
       "    <tr>\n",
       "      <th>3</th>\n",
       "      <td>1.5</td>\n",
       "      <td>0.2</td>\n",
       "      <td>1</td>\n",
       "    </tr>\n",
       "    <tr>\n",
       "      <th>4</th>\n",
       "      <td>1.4</td>\n",
       "      <td>0.2</td>\n",
       "      <td>1</td>\n",
       "    </tr>\n",
       "  </tbody>\n",
       "</table>\n",
       "</div>"
      ],
      "text/plain": [
       "   PetalLengthCm  PetalWidthCm  Species\n",
       "0            1.4           0.2        1\n",
       "1            1.4           0.2        1\n",
       "2            1.3           0.2        1\n",
       "3            1.5           0.2        1\n",
       "4            1.4           0.2        1"
      ]
     },
     "execution_count": 3,
     "metadata": {},
     "output_type": "execute_result"
    }
   ],
   "source": [
    "dataframe[\"Species\"] = dataframe[\"Species\"].apply(lambda x:1 if x == \"Iris-setosa\" else 0)\n",
    "\n",
    "dataframe.head()"
   ]
  },
  {
   "cell_type": "code",
   "execution_count": 4,
   "id": "fdb0ea4a",
   "metadata": {
    "execution": {
     "iopub.execute_input": "2023-11-07T20:20:15.416497Z",
     "iopub.status.busy": "2023-11-07T20:20:15.415842Z",
     "iopub.status.idle": "2023-11-07T20:20:15.911515Z",
     "shell.execute_reply": "2023-11-07T20:20:15.910343Z"
    },
    "papermill": {
     "duration": 0.504857,
     "end_time": "2023-11-07T20:20:15.914385",
     "exception": false,
     "start_time": "2023-11-07T20:20:15.409528",
     "status": "completed"
    },
    "tags": []
   },
   "outputs": [
    {
     "data": {
      "image/png": "[encoded data removed]",
      "text/plain": [
       "<Figure size 640x480 with 2 Axes>"
      ]
     },
     "metadata": {},
     "output_type": "display_data"
    }
   ],
   "source": [
    "plt.scatter(dataframe[\"PetalLengthCm\"], dataframe[\"PetalWidthCm\"], c=dataframe[\"Species\"], cmap = \"tab20c\")\n",
    "\n",
    "plt.xlabel(\"PetalLengthCm\")\n",
    "plt.ylabel(\"PetalWitdthCm\")\n",
    "\n",
    "cbar = plt.colorbar()"
   ]
  },
  {
   "cell_type": "code",
   "execution_count": 5,
   "id": "a942fb1c",
   "metadata": {
    "execution": {
     "iopub.execute_input": "2023-11-07T20:20:15.927278Z",
     "iopub.status.busy": "2023-11-07T20:20:15.926127Z",
     "iopub.status.idle": "2023-11-07T20:20:15.941203Z",
     "shell.execute_reply": "2023-11-07T20:20:15.939734Z"
    },
    "papermill": {
     "duration": 0.024715,
     "end_time": "2023-11-07T20:20:15.944305",
     "exception": false,
     "start_time": "2023-11-07T20:20:15.919590",
     "status": "completed"
    },
    "tags": []
   },
   "outputs": [],
   "source": [
    "features = dataframe[[\"PetalLengthCm\", \"PetalWidthCm\"]]\n",
    "labels = dataframe[[\"Species\"]]"
   ]
  },
  {
   "cell_type": "code",
   "execution_count": 6,
   "id": "ed68d7fc",
   "metadata": {
    "execution": {
     "iopub.execute_input": "2023-11-07T20:20:15.957007Z",
     "iopub.status.busy": "2023-11-07T20:20:15.956339Z",
     "iopub.status.idle": "2023-11-07T20:20:15.963378Z",
     "shell.execute_reply": "2023-11-07T20:20:15.962565Z"
    },
    "papermill": {
     "duration": 0.01615,
     "end_time": "2023-11-07T20:20:15.965821",
     "exception": false,
     "start_time": "2023-11-07T20:20:15.949671",
     "status": "completed"
    },
    "tags": []
   },
   "outputs": [],
   "source": [
    "features_train, features_test, labels_train, label_test = train_test_split(features, labels, train_size = 0.8, test_size = 0.2, random_state = 42)"
   ]
  },
  {
   "cell_type": "code",
   "execution_count": 7,
   "id": "a9af8604",
   "metadata": {
    "execution": {
     "iopub.execute_input": "2023-11-07T20:20:15.978479Z",
     "iopub.status.busy": "2023-11-07T20:20:15.978075Z",
     "iopub.status.idle": "2023-11-07T20:20:16.023542Z",
     "shell.execute_reply": "2023-11-07T20:20:16.022504Z"
    },
    "papermill": {
     "duration": 0.055275,
     "end_time": "2023-11-07T20:20:16.026465",
     "exception": false,
     "start_time": "2023-11-07T20:20:15.971190",
     "status": "completed"
    },
    "tags": []
   },
   "outputs": [
    {
     "data": {
      "text/html": [
       "<style>#sk-container-id-1 {color: black;background-color: white;}#sk-container-id-1 pre{padding: 0;}#sk-container-id-1 div.sk-toggleable {background-color: white;}#sk-container-id-1 label.sk-toggleable__label {cursor: pointer;display: block;width: 100%;margin-bottom: 0;padding: 0.3em;box-sizing: border-box;text-align: center;}#sk-container-id-1 label.sk-toggleable__label-arrow:before {content: \"▸\";float: left;margin-right: 0.25em;color: #696969;}#sk-container-id-1 label.sk-toggleable__label-arrow:hover:before {color: black;}#sk-container-id-1 div.sk-estimator:hover label.sk-toggleable__label-arrow:before {color: black;}#sk-container-id-1 div.sk-toggleable__content {max-height: 0;max-width: 0;overflow: hidden;text-align: left;background-color: #f0f8ff;}#sk-container-id-1 div.sk-toggleable__content pre {margin: 0.2em;color: black;border-radius: 0.25em;background-color: #f0f8ff;}#sk-container-id-1 input.sk-toggleable__control:checked~div.sk-toggleable__content {max-height: 200px;max-width: 100%;overflow: auto;}#sk-container-id-1 input.sk-toggleable__control:checked~label.sk-toggleable__label-arrow:before {content: \"▾\";}#sk-container-id-1 div.sk-estimator input.sk-toggleable__control:checked~label.sk-toggleable__label {background-color: #d4ebff;}#sk-container-id-1 div.sk-label input.sk-toggleable__control:checked~label.sk-toggleable__label {background-color: #d4ebff;}#sk-container-id-1 input.sk-hidden--visually {border: 0;clip: rect(1px 1px 1px 1px);clip: rect(1px, 1px, 1px, 1px);height: 1px;margin: -1px;overflow: hidden;padding: 0;position: absolute;width: 1px;}#sk-container-id-1 div.sk-estimator {font-family: monospace;background-color: #f0f8ff;border: 1px dotted black;border-radius: 0.25em;box-sizing: border-box;margin-bottom: 0.5em;}#sk-container-id-1 div.sk-estimator:hover {background-color: #d4ebff;}#sk-container-id-1 div.sk-parallel-item::after {content: \"\";width: 100%;border-bottom: 1px solid gray;flex-grow: 1;}#sk-container-id-1 div.sk-label:hover label.sk-toggleable__label {background-color: #d4ebff;}#sk-container-id-1 div.sk-serial::before {content: \"\";position: absolute;border-left: 1px solid gray;box-sizing: border-box;top: 0;bottom: 0;left: 50%;z-index: 0;}#sk-container-id-1 div.sk-serial {display: flex;flex-direction: column;align-items: center;background-color: white;padding-right: 0.2em;padding-left: 0.2em;position: relative;}#sk-container-id-1 div.sk-item {position: relative;z-index: 1;}#sk-container-id-1 div.sk-parallel {display: flex;align-items: stretch;justify-content: center;background-color: white;position: relative;}#sk-container-id-1 div.sk-item::before, #sk-container-id-1 div.sk-parallel-item::before {content: \"\";position: absolute;border-left: 1px solid gray;box-sizing: border-box;top: 0;bottom: 0;left: 50%;z-index: -1;}#sk-container-id-1 div.sk-parallel-item {display: flex;flex-direction: column;z-index: 1;position: relative;background-color: white;}#sk-container-id-1 div.sk-parallel-item:first-child::after {align-self: flex-end;width: 50%;}#sk-container-id-1 div.sk-parallel-item:last-child::after {align-self: flex-start;width: 50%;}#sk-container-id-1 div.sk-parallel-item:only-child::after {width: 0;}#sk-container-id-1 div.sk-dashed-wrapped {border: 1px dashed gray;margin: 0 0.4em 0.5em 0.4em;box-sizing: border-box;padding-bottom: 0.4em;background-color: white;}#sk-container-id-1 div.sk-label label {font-family: monospace;font-weight: bold;display: inline-block;line-height: 1.2em;}#sk-container-id-1 div.sk-label-container {text-align: center;}#sk-container-id-1 div.sk-container {/* jupyter's `normalize.less` sets `[hidden] { display: none; }` but bootstrap.min.css set `[hidden] { display: none !important; }` so we also need the `!important` here to be able to override the default hidden behavior on the sphinx rendered scikit-learn.org. See: https://github.com/scikit-learn/scikit-learn/issues/21755 */display: inline-block !important;position: relative;}#sk-container-id-1 div.sk-text-repr-fallback {display: none;}</style><div id=\"sk-container-id-1\" class=\"sk-top-container\"><div class=\"sk-text-repr-fallback\"><pre>LinearRegression()</pre><b>In a Jupyter environment, please rerun this cell to show the HTML representation or trust the notebook. <br />On GitHub, the HTML representation is unable to render, please try loading this page with nbviewer.org.</b></div><div class=\"sk-container\" hidden><div class=\"sk-item\"><div class=\"sk-estimator sk-toggleable\"><input class=\"sk-toggleable__control sk-hidden--visually\" id=\"sk-estimator-id-1\" type=\"checkbox\" checked><label for=\"sk-estimator-id-1\" class=\"sk-toggleable__label sk-toggleable__label-arrow\">LinearRegression</label><div class=\"sk-toggleable__content\"><pre>LinearRegression()</pre></div></div></div></div></div>"
      ],
      "text/plain": [
       "LinearRegression()"
      ]
     },
     "execution_count": 7,
     "metadata": {},
     "output_type": "execute_result"
    }
   ],
   "source": [
    "model = LinearRegression()\n",
    "model.fit(features_train, labels_train)"
   ]
  },
  {
   "cell_type": "code",
   "execution_count": 8,
   "id": "c6f47260",
   "metadata": {
    "execution": {
     "iopub.execute_input": "2023-11-07T20:20:16.039145Z",
     "iopub.status.busy": "2023-11-07T20:20:16.038483Z",
     "iopub.status.idle": "2023-11-07T20:20:16.044402Z",
     "shell.execute_reply": "2023-11-07T20:20:16.043625Z"
    },
    "papermill": {
     "duration": 0.014807,
     "end_time": "2023-11-07T20:20:16.046683",
     "exception": false,
     "start_time": "2023-11-07T20:20:16.031876",
     "status": "completed"
    },
    "tags": []
   },
   "outputs": [],
   "source": [
    "predictions = model.predict(features_test)"
   ]
  },
  {
   "cell_type": "code",
   "execution_count": 9,
   "id": "59fd23ef",
   "metadata": {
    "execution": {
     "iopub.execute_input": "2023-11-07T20:20:16.059353Z",
     "iopub.status.busy": "2023-11-07T20:20:16.058927Z",
     "iopub.status.idle": "2023-11-07T20:20:16.366400Z",
     "shell.execute_reply": "2023-11-07T20:20:16.365276Z"
    },
    "papermill": {
     "duration": 0.316571,
     "end_time": "2023-11-07T20:20:16.368703",
     "exception": false,
     "start_time": "2023-11-07T20:20:16.052132",
     "status": "completed"
    },
    "tags": []
   },
   "outputs": [
    {
     "data": {
      "text/plain": [
       "Text(0, 0.5, 'Predictied Species')"
      ]
     },
     "execution_count": 9,
     "metadata": {},
     "output_type": "execute_result"
    },
    {
     "data": {
      "image/png": "[encoded data removed]",
      "text/plain": [
       "<Figure size 640x480 with 1 Axes>"
      ]
     },
     "metadata": {},
     "output_type": "display_data"
    }
   ],
   "source": [
    "plt.scatter(label_test, predictions)\n",
    "\n",
    "plt.xlabel(\"Acctual Species\")\n",
    "plt.ylabel(\"Predictied Species\")"
   ]
  },
  {
   "cell_type": "code",
   "execution_count": 10,
   "id": "e1bcbbcd",
   "metadata": {
    "execution": {
     "iopub.execute_input": "2023-11-07T20:20:16.382434Z",
     "iopub.status.busy": "2023-11-07T20:20:16.381992Z",
     "iopub.status.idle": "2023-11-07T20:20:16.391386Z",
     "shell.execute_reply": "2023-11-07T20:20:16.390259Z"
    },
    "papermill": {
     "duration": 0.018839,
     "end_time": "2023-11-07T20:20:16.393694",
     "exception": false,
     "start_time": "2023-11-07T20:20:16.374855",
     "status": "completed"
    },
    "tags": []
   },
   "outputs": [
    {
     "name": "stdout",
     "output_type": "stream",
     "text": [
      "0.9659100563247287\n"
     ]
    }
   ],
   "source": [
    "print(model.score(features_test, label_test))\n"
   ]
  }
 ],
 "metadata": {
  "kernelspec": {
   "display_name": "Python 3",
   "language": "python",
   "name": "python3"
  },
  "language_info": {
   "codemirror_mode": {
    "name": "ipython",
    "version": 3
   },
   "file_extension": ".py",
   "mimetype": "text/x-python",
   "name": "python",
   "nbconvert_exporter": "python",
   "pygments_lexer": "ipython3",
   "version": "3.10.12"
  },
  "papermill": {
   "default_parameters": {},
   "duration": 7.009237,
   "end_time": "2023-11-07T20:20:17.020862",
   "environment_variables": {},
   "exception": null,
   "input_path": "__notebook__.ipynb",
   "output_path": "__notebook__.ipynb",
   "parameters": {},
   "start_time": "2023-11-07T20:20:10.011625",
   "version": "2.4.0"
  }
 },
 "nbformat": 4,
 "nbformat_minor": 5
}
